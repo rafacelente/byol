{
 "cells": [
  {
   "cell_type": "markdown",
   "metadata": {},
   "source": [
    "## BYOL for image segmentation\n",
    "\n",
    "Example with UNet model from [segmentation-models-pytorch](https://github.com/qubvel/segmentation_models.pytorch/tree/master)."
   ]
  },
  {
   "cell_type": "code",
   "execution_count": 1,
   "metadata": {},
   "outputs": [
    {
     "name": "stderr",
     "output_type": "stream",
     "text": [
      "/home/rafael/.local/lib/python3.10/site-packages/tqdm/auto.py:21: TqdmWarning: IProgress not found. Please update jupyter and ipywidgets. See https://ipywidgets.readthedocs.io/en/stable/user_install.html\n",
      "  from .autonotebook import tqdm as notebook_tqdm\n"
     ]
    }
   ],
   "source": [
    "import sys\n",
    "\n",
    "sys.path.append(\"./../\")\n",
    "\n",
    "from byol.models import BYOL, UNETModule\n",
    "from byol.utils import BYOLTransforms1, BYOLTransforms\n",
    "import torch\n",
    "import pytorch_lightning as pl\n",
    "import torchvision\n",
    "import numpy as np\n",
    "\n",
    "accelerator = \"gpu\" if torch.cuda.is_available() else \"cpu\""
   ]
  },
  {
   "cell_type": "code",
   "execution_count": 2,
   "metadata": {},
   "outputs": [
    {
     "name": "stdout",
     "output_type": "stream",
     "text": [
      "Train size: 3312\n",
      "Valid size: 368\n",
      "Test size: 3669\n"
     ]
    }
   ],
   "source": [
    "from utils.oxford_pet import SimpleOxfordPetDataset, BYOLOxfordPetDataset\n",
    "import os\n",
    "from torch.utils.data import DataLoader\n",
    "\n",
    "root = \".\"\n",
    "SimpleOxfordPetDataset.download(root)\n",
    "# init train, val, test sets\n",
    "train_dataset = SimpleOxfordPetDataset(root, \"train\")\n",
    "valid_dataset = SimpleOxfordPetDataset(root, \"valid\")\n",
    "test_dataset = SimpleOxfordPetDataset(root, \"test\")\n",
    "\n",
    "print(f\"Train size: {len(train_dataset)}\")\n",
    "print(f\"Valid size: {len(valid_dataset)}\")\n",
    "print(f\"Test size: {len(test_dataset)}\")\n",
    "\n",
    "n_cpu = os.cpu_count()\n",
    "train_dataloader = DataLoader(train_dataset, batch_size=16, shuffle=True, num_workers=n_cpu)\n",
    "valid_dataloader = DataLoader(valid_dataset, batch_size=16, shuffle=False, num_workers=n_cpu)\n",
    "test_dataloader = DataLoader(test_dataset, batch_size=16, shuffle=False, num_workers=n_cpu)"
   ]
  },
  {
   "cell_type": "markdown",
   "metadata": {},
   "source": [
    "### Training an UNET model on the SimpleOxfordPet Dataset"
   ]
  },
  {
   "cell_type": "code",
   "execution_count": 3,
   "metadata": {},
   "outputs": [
    {
     "name": "stderr",
     "output_type": "stream",
     "text": [
      "GPU available: True (cuda), used: True\n",
      "TPU available: False, using: 0 TPU cores\n",
      "IPU available: False, using: 0 IPUs\n",
      "HPU available: False, using: 0 HPUs\n"
     ]
    }
   ],
   "source": [
    "unet_module = UNETModule()\n",
    "\n",
    "unet_trainer = pl.Trainer(\n",
    "    max_epochs=1,\n",
    "    accelerator=accelerator,\n",
    "    devices=1,\n",
    ")\n",
    "\n",
    "unet_trainer.fit(unet_module, train_dataloader, valid_dataloader)"
   ]
  },
  {
   "cell_type": "code",
   "execution_count": 4,
   "metadata": {},
   "outputs": [],
   "source": [
    "unet_trainer.test(unet_module, test_dataloader)"
   ]
  },
  {
   "cell_type": "code",
   "execution_count": 5,
   "metadata": {},
   "outputs": [],
   "source": [
    "import matplotlib.pyplot as plt\n",
    "\n",
    "batch = next(iter(test_dataloader))\n",
    "with torch.no_grad():\n",
    "    unet_module.eval()\n",
    "    logits = unet_module(batch[\"image\"].float())\n",
    "pr_masks = logits.sigmoid()\n",
    "\n",
    "for image, gt_mask, pr_mask in zip(batch[\"image\"], batch[\"mask\"], pr_masks):\n",
    "    plt.figure(figsize=(10, 5))\n",
    "\n",
    "    plt.subplot(1, 3, 1)\n",
    "    plt.imshow(image.numpy().transpose(1, 2, 0))  # convert CHW -> HWC\n",
    "    plt.title(\"Image\")\n",
    "    plt.axis(\"off\")\n",
    "\n",
    "    plt.subplot(1, 3, 2)\n",
    "    plt.imshow(gt_mask.numpy().squeeze()) # just squeeze classes dim, because we have only one class\n",
    "    plt.title(\"Ground truth\")\n",
    "    plt.axis(\"off\")\n",
    "\n",
    "    plt.subplot(1, 3, 3)\n",
    "    plt.imshow(pr_mask.numpy().squeeze()) # just squeeze classes dim, because we have only one class\n",
    "    plt.title(\"Prediction\")\n",
    "    plt.axis(\"off\")\n",
    "\n",
    "    plt.show()\n",
    "     "
   ]
  },
  {
   "cell_type": "markdown",
   "metadata": {},
   "source": [
    "### Training BYOL on SimpleOxfordPet Dataset"
   ]
  },
  {
   "cell_type": "code",
   "execution_count": 6,
   "metadata": {},
   "outputs": [],
   "source": [
    "transform = BYOLTransforms(\n",
    "    view1=BYOLTransforms1(input_size=256),\n",
    "    view2=BYOLTransforms1(input_size=256)\n",
    ")\n",
    "byol_dataset = BYOLOxfordPetDataset(root, \"test\", transform=transform)\n",
    "\n",
    "byol_dataloader = DataLoader(byol_dataset, batch_size=64, shuffle=True, num_workers=n_cpu)\n",
    "byol_module = BYOL(\n",
    "    hparams={\n",
    "        \"input_dim\": 512,\n",
    "        \"hidden_dim\": 1024,\n",
    "        \"projection_dim\": 256,\n",
    "        \"max_epochs\": 3, # used for the cosine scheduler\n",
    "    },\n",
    "    model=unet_module.model.encoder,\n",
    "    batch_type=\"dict\",\n",
    ")\n"
   ]
  },
  {
   "cell_type": "code",
   "execution_count": 7,
   "metadata": {},
   "outputs": [
    {
     "name": "stderr",
     "output_type": "stream",
     "text": [
      "GPU available: True (cuda), used: True\n",
      "TPU available: False, using: 0 TPU cores\n",
      "IPU available: False, using: 0 IPUs\n",
      "HPU available: False, using: 0 HPUs\n"
     ]
    }
   ],
   "source": [
    "byol_trainer = pl.Trainer(\n",
    "    max_epochs=3,\n",
    "    devices=1,\n",
    "    accelerator=accelerator,\n",
    ")\n",
    "\n",
    "byol_trainer.fit(model=byol_module, train_dataloaders=byol_dataloader) # our model never sees labeled data!"
   ]
  },
  {
   "cell_type": "markdown",
   "metadata": {},
   "source": [
    "### Fine-tuning our BYOL-boosted-UNET on the rest of the dataset."
   ]
  },
  {
   "cell_type": "code",
   "execution_count": null,
   "metadata": {},
   "outputs": [],
   "source": [
    "unet_byol_module = UNETModule().from_byol(byol_module)\n",
    "\n",
    "unet_byol_trainer = pl.Trainer(\n",
    "    max_epochs=1,\n",
    "    accelerator=accelerator,\n",
    "    devices=1,\n",
    ")"
   ]
  },
  {
   "cell_type": "code",
   "execution_count": null,
   "metadata": {},
   "outputs": [],
   "source": [
    "unet_byol_trainer.fit(unet_byol_module, train_dataloader, valid_dataloader)"
   ]
  },
  {
   "cell_type": "code",
   "execution_count": null,
   "metadata": {},
   "outputs": [],
   "source": [
    "import matplotlib.pyplot as plt\n",
    "\n",
    "batch = next(iter(test_dataloader))\n",
    "with torch.no_grad():\n",
    "    unet_module.eval()\n",
    "    logits = unet_module(batch[\"image\"].float())\n",
    "\n",
    "with torch.no_grad():\n",
    "    unet_byol_module.eval()\n",
    "    logits_byol = unet_byol_module(batch[\"image\"].float())\n",
    "\n",
    "pr_masks_unet = logits.sigmoid()\n",
    "pr_masks_byol = logits_byol.sigmoid()\n",
    "\n",
    "for image, gt_mask, pr_mask_unet, pr_mask_byol in zip(batch[\"image\"], batch[\"mask\"], pr_masks, pr_masks_byol):\n",
    "    plt.figure(figsize=(10, 5))\n",
    "\n",
    "    plt.subplot(1, 4, 1)\n",
    "    plt.imshow(image.numpy().transpose(1, 2, 0))  # convert CHW -> HWC\n",
    "    plt.title(\"Image\")\n",
    "    plt.axis(\"off\")\n",
    "\n",
    "    plt.subplot(1, 4, 2)\n",
    "    plt.imshow(gt_mask.numpy().squeeze()) # just squeeze classes dim, because we have only one class\n",
    "    plt.title(\"Ground truth\")\n",
    "    plt.axis(\"off\")\n",
    "\n",
    "    plt.subplot(1, 4, 3)\n",
    "    plt.imshow(pr_mask_unet.numpy().squeeze()) # just squeeze classes dim, because we have only one class\n",
    "    plt.title(\"Prediction\")\n",
    "    plt.axis(\"off\")\n",
    "\n",
    "    plt.subplot(1, 4, 4)\n",
    "    plt.imshow(pr_mask_byol.numpy().squeeze()) # just squeeze classes dim, because we have only one class\n",
    "    plt.title(\"Prediction\")\n",
    "    plt.axis(\"off\")\n",
    "\n",
    "    plt.show()\n",
    "     "
   ]
  },
  {
   "cell_type": "code",
   "execution_count": 9,
   "metadata": {},
   "outputs": [
    {
     "data": {
      "text/plain": [
       "torch.Size([1, 2048])"
      ]
     },
     "execution_count": 9,
     "metadata": {},
     "output_type": "execute_result"
    }
   ],
   "source": [
    "# import torch.nn as nn\n",
    "\n",
    "# unet_module = UNETModule(encoder_name=\"resnet50\")\n",
    "# m = nn.Sequential(*list(unet_module.model.encoder.children()), nn.AdaptiveAvgPool2d((1, 1)))\n",
    "# m.eval()\n",
    "# x = torch.rand(1, 3, 32, 32)\n",
    "# m(x).flatten(start_dim=1).shape"
   ]
  },
  {
   "cell_type": "code",
   "execution_count": 11,
   "metadata": {},
   "outputs": [
    {
     "data": {
      "text/plain": [
       "torch.Size([1, 512])"
      ]
     },
     "execution_count": 11,
     "metadata": {},
     "output_type": "execute_result"
    }
   ],
   "source": [
    "# import torchvision.models as models\n",
    "\n",
    "# resnet = models.resnet18(pretrained=False, num_classes=10)\n",
    "# m = nn.Sequential(*list(resnet.children())[:-1])\n",
    "# m.eval()\n",
    "# x = torch.rand(1, 3, 256, 256)\n",
    "# m(x).flatten(start_dim=1).shape"
   ]
  },
  {
   "cell_type": "code",
   "execution_count": null,
   "metadata": {},
   "outputs": [],
   "source": []
  }
 ],
 "metadata": {
  "kernelspec": {
   "display_name": "gengar",
   "language": "python",
   "name": "python3"
  },
  "language_info": {
   "codemirror_mode": {
    "name": "ipython",
    "version": 3
   },
   "file_extension": ".py",
   "mimetype": "text/x-python",
   "name": "python",
   "nbconvert_exporter": "python",
   "pygments_lexer": "ipython3",
   "version": "3.10.13"
  }
 },
 "nbformat": 4,
 "nbformat_minor": 2
}
