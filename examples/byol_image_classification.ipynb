{
 "cells": [
  {
   "cell_type": "markdown",
   "metadata": {},
   "source": [
    "# BYOL (Bootstrap Your Own Latent)\n",
    "\n",
    "## Introduction\n",
    "\n",
    "[Bootstrap Your Own Latent (BYOL)](https://arxiv.org/abs/2006.07733) is a novel approach in the field of self-supervised learning, particularly within the domain of computer vision. This method proposed a significant shift in how models can learn useful representations without relying on labeled data, which is particularly difficult to obtain for a lot of vision tasks.\n",
    "\n",
    "BYOL works by creating a 2 networks, **online network** and the **target network**, which have the exact same architecture, but with different sets of weights. Both networks process the same image, albeit in different augmented forms. The online network is trained to predict the target network's representation of its version of the image. The objective of the task is to minimize the similarity loss between the prediction from the online network and the projection of the target network. This basically means that the target network is trying to teach the online network how to view different representations of the same image through different lenses. The conjecture here is that this gives the online network a richer feature representation of these images, which makes them more powerful in downstream classification/segmentation/detection tasks.\n",
    "\n",
    "### Self-supervised learning and why it is important\n",
    "\n",
    "Self-supervised learning (SSL) is a powerful paradigm in any machine learning task, since it aims to give useful representations from data without any annotation. In domains such as computer vision, where annotating large datasets can be prohibitively expensive and time-consuming (for context, 3rd party annotation companies [may charge upwards of €800 for 1000 images](https://kili-technology.com/data-labeling/estimating-image-annotation-pricing-for-ai-projects)), SSL offers a cost-effective alternative.\n",
    "\n",
    "Moreover, recent advances in other machine learning domains such as NLP, Audio and sample-efficient reinforcement learning have showed that SSL is an incredibly powerful tool for the models to understand and interpret data by finding and leveraging inherent patterns and structures within the data itself. Models such as [wav2vec](https://arxiv.org/abs/2006.11477), [GPT](https://s3-us-west-2.amazonaws.com/openai-assets/research-covers/language-unsupervised/language_understanding_paper.pdf) and [BERT](https://arxiv.org/abs/1810.04805) are examples of models that are pre-trained or implemented using self-supervised methods in their pipeline.\n",
    "\n",
    "### An overview of past self-supervised learning methods for computer vision\n",
    "\n",
    "Inspired by methods of [knowledge distillation](https://arxiv.org/abs/1503.02531), earlier attempts at creating self-supervised learning methods for computer vision tasks were created. Knowledge distillation is a method that takes 2 neural networks - a \"student\" and a \"teacher\" -, where the goal of the task is to maximize the similiarity between the output of teacher and the student.\n",
    "\n",
    "\n",
    "<p align=\"center\">\n",
    "<img src=\"images/knowledge-distillation.png\" alt=\"Knowledge distillation\" width=\"300\"/>\n",
    "</p>\n",
    "\n",
    "The problem with this approach is that, if we compare two representations of the image through a loss function, there is always a local minimum that the architecture might learn that is to learn no representation at all. If both our student and teacher networks output no representations, the loss will always be equally none and, therefore, the loss will be 0. This is known as [representation collapse](https://arxiv.org/pdf/2110.09348.pdf).\n",
    "\n",
    "Methods such as [SimCLR](https://arxiv.org/abs/2002.05709) solved this through [contrastative learning methods](https://paperswithcode.com/task/contrastive-learning), which present the networks with positive and negative samples, and train the network to maximize the distance between negative pairs while minimizing distance between positive pairs. Although had good results on paper, this mean that the dataset had to be purposely built to have negative samples and a wide range of diverse positive samples, which meant that batch sizes had to be large to provide enough representation.\n",
    "\n",
    "<p align=\"center\">\n",
    "<img src=\"images/Contrastive-Learning.jpg\" alt=\"Constrative Learning\" width=\"300\"/>\n",
    "</p>\n",
    "\n",
    "\n",
    " However, BYOL comes up with a novel approach to this type of task, not having to rely on negative pairs, being able to produce oustanding results even at lower batch sizes."
   ]
  },
  {
   "cell_type": "markdown",
   "metadata": {},
   "source": [
    "### How BYOL works\n",
    "\n",
    "BYOL expands on the notion of knowledge distillation by introducing two architecturally equal networks, the **target** (with a set of weights $\\xi$) and the **online** (with a set of weights $\\theta$) networks. Each network takes as input the same image but in different augumented forms, and the job of BYOL is to minimize the distance between the representation of these images.\n",
    "\n",
    "<p align=\"center\">\n",
    "<img src=\"images/byol_overview.png\" alt=\"BYOL Overview\" width=\"400\"/>\n",
    "</p>\n",
    "\n",
    "The architecture of BYOL, shown in the image below, demonstrates the stages for both the online and target networks. Both the networks have the common **encoder** $f_\\theta$, **projector** $g_\\theta$ heads, while the online network has a supplementary **predictor** $q_\\theta$ head. The encoder $f_\\theta$ is the result of our network of interest. This can range from classification networks such as [ResNet18 or ResNet50](https://arxiv.org/abs/1512.03385) or segementation networks such as [U-Net](https://arxiv.org/abs/1505.04597). \n",
    "\n",
    "<p align=\"center\">\n",
    "<img src=\"images/byol_architecture.png\" alt=\"BYOL Architecture\" width=\"400\"/>\n",
    "</p>\n",
    "\n",
    "The projector head is a BYOL-specific module that will learn the representations of our images. The predictor head, which is only present in the online network, introduces an assymetry in the representations outputted by the two networks, which helps to avoid representation collapse.\n",
    "\n",
    "Moreover, to maintain a stable baseline for the online network to learn, instead of training both target and online networks, it introduces a weight update mecahnism on the target network. The target network provides the regression targets to train the online network, and its parameters $\\xi$ are an exponential moving average of the online parameters $\\theta$. More precisely, given a target decay rate $\\tau \\in [0,1]$, after each training step it performs the following update:\n",
    "\n",
    "$$\\xi \\leftarrow \\tau\\xi + (1-\\tau)\\theta$$\n",
    "\n",
    "This means that the target network's weights are not actively updated through gradient descent, but are updated by computing the momentum of the online network's weights during training.\n",
    "\n",
    "In the original BYOL paper, the exponential moving average parameter $\\tau$ starts from $\\tau_{base} = 0.996$ and is increased to one during training. It is set as $\\tau = 1 − (1 − \\tau_{base}) · (\\cos(\\pi k/K) + 1)/2$, with k the current training step and K the maximum number of training steps, which is a cosine scheduler.\n",
    "\n",
    "To compare the representations of the two networks BYOL implements a loss function that computes the cosine similarity between the representations. It defines a loss $\\mathcal{L}_{\\theta, \\xi}$ for the online $\\mathcal{\\tilde{L}}_{\\theta, \\xi}$ for the target, which is then computed between the two augmented views.\n",
    "\n",
    "$$\\mathcal{L}_{\\theta, \\xi} = 2 - 2 \\cdot \\frac{ \\langle q_{\\theta} (z_{\\theta}), z'_{\\xi} \\rangle}{||q_{\\theta} (z_{\\theta})||_2 \\cdot ||z'_{\\xi}||_2}$$\n",
    "\n",
    "$$\\mathcal{L}^{BYOL}_{\\theta, \\xi} = \\mathcal{L}_{\\theta, \\xi} + \\mathcal{\\tilde{L}}_{\\theta, \\xi}$$\n",
    "\n",
    "### Performance compared to other methods\n",
    "\n",
    "#### The Good\n",
    "\n",
    "On both semi-supvervised and transfer learning benchmarks, performs on par or better than current state of the art (SOTA) methods. BYOL reaches 74.3% top-1 classification accuracy on ImageNet using a linear evaluation with a ResNet-50 architecture and 79.6% with a larger ResNet. When compared to previous SOTA methods such as SimCLR, BYOL was almost exclusively better in all benchmarks. It was shown to be incredibly powerful for learning representation of unlabeled data, which heavily improves training pipelines where data annotation is expensive or hard to get.\n",
    "\n",
    "<p align=\"center\">\n",
    "<img src=\"images/results_byol.png\" alt=\"BYOL Results\" width=\"600\"/>\n",
    "</p>\n",
    "\n",
    "#### The Bad\n",
    "\n",
    "Although it shows promising results, BYOL still has some implementation pitfalls that may be problematic. \n",
    "\n",
    "BYOL's architecture, which includes an online network and a target network, along with a prediction head, increases the model's complexity and therefore the required computational power to run these methods. For larger downstream networks, computing power may be a limiting factor. Moreover, the need to maintain and update two networks simultaneously during training can lead to higher memory usage and increased processing time, making it challenging to train on large datasets or with limited hardware.\n",
    "\n",
    "BYOL also heavily relies on sets of data augmentation for the model to learn proximal representations. Designing effective augmentations requires domain knowledge, and finding the right set of augmentations can be a trial-and-error process, adding an additional layer of complexity to the training procedure. Poorly chosen augmentations can lead to suboptimal learning outcomes.\n",
    "\n",
    "#### The Ugly\n",
    "\n",
    "Perhaps the most controversial part of BYOL is that its results are purely emprical, and the reason for success - in the theoretical sense - is still a mystery for researchers. Although representation collapse is mitigated in the examples, in theory there is **no reason why it shouldn't occur at any given time**. In fact, the authors of BYOL explicitly quote:\n",
    "\n",
    "> “While this objective admits collapsed solutions, e.g., outputting the same vector for all images, we empirically show that BYOL does not converge to such solutions.”\n",
    "\n",
    "The authors hypothesize that the use of a predictor head and the use of a slow-moving average to update the target network avoids collapsed solutions, but no proof has yet been shown.\n",
    "\n",
    "\n",
    "\n",
    "\n",
    "\n",
    "\n"
   ]
  },
  {
   "cell_type": "markdown",
   "metadata": {},
   "source": [
    "## Implementing BYOL\n",
    "\n",
    "**Note:** \n",
    "1. To simplify this notebook and faciliate training, all implementations are on `byol` directory shipped with this notebook. For clarity, prints of the classes and modules will be shown here, but you may go to the project directory to see all of the implementation.\n",
    "2. The implementation of the modules are done using Pytorch Lightning to simplify the ammount of training code.\n",
    "\n",
    "\n",
    "### The Heads\n",
    "\n",
    "As seem by its architecture, BYOL has 3 main heads: the encoder, the projector and the predictor.\n",
    "\n",
    "#### The Encoder\n",
    "\n",
    "The encoder (or backbone), is the actual network that will perform the classification, segmentation or detection task. For this example, we will use a image classification task in which a ResNet18 architecture is applied. We choose this architecture because it is simple, already implemented through the `torchvision` library and lightweight, allowing runs to be kept simple for this notebook.\n",
    "\n",
    "<p align=\"center\">\n",
    "<img src=\"images/resnet_module.png\" alt=\"Resnet Module\" width=\"600\"/>\n",
    "</p>\n",
    "\n",
    "#### The Projection Head\n",
    "\n",
    "The projection head is made up of an Multi-layer perceptron (MLP) that consists of a linear layer followed by a batch normalizaiton and a ReLU non-linearity. The input dimension is the dimension of the image. This is then fed through the hidden layer with more dimensions, and then compressed again to an output layer.\n",
    "\n",
    "In the paper, the authors use an input with a feature dimension of 2048 because they train on bigger networks such as ResNet50, which has an output size of 2048. For the hidden layer, they used a linear layer with output size 4096. However, in this example we will train using a ResNet18 which has an output size of 512, so `input_dim` will be 512. To simplify the training process as well, we will use a hidden dimension of 1024. The output dimension of this head is 256.\n",
    "\n",
    "<p align=\"center\">\n",
    "<img src=\"images/ProjectionHead.png\" alt=\"Projection Head\" width=\"600\"/>\n",
    "</p>\n",
    "\n",
    "#### The Prediction Head\n",
    "\n",
    "The prediction head has exactly the same structure as the projection head, but the input dimension now is exactly equal to the output dimension of the previous head, which is the projection head. Therefore, the input dimension will be 256.\n",
    "\n",
    "\n",
    "<p align=\"center\">\n",
    "<img src=\"images/PredictionHead.png\" alt=\"Projection Head\" width=\"600\"/>\n",
    "</p>\n",
    "\n",
    "\n",
    "### The Transforms\n",
    "\n",
    "BYOL uses a series of data augmentations (or transforms) that enable the model to learn invariant features by predicting the representation of one augmented view from another. Although these augmentations are dependant on the type of task and data, we will use the default augmentations used in the paper for the classification task. These augmentations are: resize and crop, horizontal flip, color jitter and grayscale. The image below illustrates some of the common augmentations used.\n",
    "\n",
    "<p align=\"center\">\n",
    "<img src=\"images/augmentations.png\" alt=\"Augmentations\" width=\"400\"/>\n",
    "</p>\n",
    "\n",
    "We then implement these transforms as their own class and apply it to our dataloader as such. It is important to note here that the default input size for the transform is 224 because ResNet18, by default, resizes the input image to a vector of dimension 224.\n",
    "\n",
    "<p align=\"center\">\n",
    "<img src=\"images/ByolTransforms.png\" alt=\"Transforms\" width=\"500\"/>\n",
    "</p>\n",
    "\n",
    "### The BYOL Module\n",
    "\n",
    "With the all the heads and transforms, we can then put it all together into a BYOL module, that encapsulates it all. \n",
    "\n",
    "First, we define and intialize our heads. Since we have the online and target networks, we will need 2 encoders (`backbone` and `target_backbone`), 2 projection heads (`projection head` and `target_projection_head`) and 1 prediction head for the online network (`prediction head`).\n",
    "\n",
    "<p align=\"center\">\n",
    "<img src=\"images/Byol1.png\" alt=\"Transforms\" width=\"500\"/>\n",
    "</p>\n",
    "\n",
    "Then, since the target network is not trained using gradient descent but its weights are updated based on the momentum of the online network's weights, we have to deactivate the gradients for all the parameters of the target.\n",
    "\n",
    "We also define a helper to our loss function, which is the cosine similarity module, which computes the function $\\text{similarity} = \\dfrac{x_1 \\cdot x_2}{\\max(\\Vert x_1 \\Vert _2 \\cdot \\Vert x_2 \\Vert _2, \\epsilon)}$.\n",
    "\n",
    "Our `forward` and `forward_target` calls are then just the application of the pipeline seen on our architecture. For the online network, the input goes through the encoder, projector and finally predictor heads. For the target, it only goes through the encoder and projection heads.\n",
    "\n",
    "<p align=\"center\">\n",
    "<img src=\"images/Byol2.png\" alt=\"Transforms\" width=\"500\"/>\n",
    "</p>\n",
    "\n",
    "Finally, one training step for BYOL looks like the following:\n",
    "\n",
    "1. Fetch the current momentum variable $\\tau$.\n",
    "2. Update the momentum on the target network (backbone and projection head).\n",
    "3. Forward through input through the target and online networks.\n",
    "4. Compute the similarity loss between the two.\n",
    "\n",
    "<p align=\"center\">\n",
    "<img src=\"images/Byol3.png\" alt=\"Transforms\" width=\"500\"/>\n",
    "</p>\n"
   ]
  },
  {
   "cell_type": "markdown",
   "metadata": {},
   "source": [
    "## Putting it to practice"
   ]
  },
  {
   "cell_type": "markdown",
   "metadata": {},
   "source": [
    "Let's see how BYOL works in practice. We'll compare two image classification tasks: \n",
    "- a simple ResNet18 model trained on a subset of the CIFAR10 data.\n",
    "- a BYOL-boosted ResNet18 trained on non-labelled CIFAR10 images and later finetuned on the same subset of previous task.\n",
    "\n",
    "Hopefully, the BYOL model will be able to extract feature representations from the unlabelled data and \"teach\" our ResNet18 model a more complete representation of the probability distribution when we finetune it on the labelled images. We should see better testing results for our BYOL-boosted model.\n",
    "\n",
    "Here's our training pipeline for this notebook:\n",
    "\n",
    "1. Start with a full dataset of CIFAR-10 training data $D$. \n",
    "2. Train a supervised task with resnet18 on a subset $A$ of $D$ and log its score on the test set $T$.\n",
    "3. Train a unsupervised task with BYOL on a subset $B$ of $D$ (where $D = A \\cup B$) and log the the model. \n",
    "4. Finetune the BYOL-enhanced model with a supervised task on resnet 18 on the subset $A$. Log its score on test set $T$.\n",
    "5. Compare results between baseline and finetuned model.\n",
    "\n",
    "**Note**: We will train for only 3 epochs on all tasks to save some time. I believe that training for longer will yield better results, but we don't have much time, so that will have to do."
   ]
  },
  {
   "cell_type": "code",
   "execution_count": 1,
   "metadata": {
    "execution": {
     "iopub.execute_input": "2024-02-11T21:18:50.726706Z",
     "iopub.status.busy": "2024-02-11T21:18:50.726446Z",
     "iopub.status.idle": "2024-02-11T21:18:53.306834Z",
     "shell.execute_reply": "2024-02-11T21:18:53.306326Z",
     "shell.execute_reply.started": "2024-02-11T21:18:50.726685Z"
    }
   },
   "outputs": [
    {
     "name": "stderr",
     "output_type": "stream",
     "text": [
      "/home/rafael/.local/lib/python3.10/site-packages/tqdm/auto.py:21: TqdmWarning: IProgress not found. Please update jupyter and ipywidgets. See https://ipywidgets.readthedocs.io/en/stable/user_install.html\n",
      "  from .autonotebook import tqdm as notebook_tqdm\n"
     ]
    }
   ],
   "source": [
    "import sys\n",
    "\n",
    "sys.path.append(\"./../\")\n",
    "\n",
    "from byol.models import BYOL, ResNetModule\n",
    "from byol.utils import BYOLTransforms1, BYOLTransforms\n",
    "import torch\n",
    "import pytorch_lightning as pl\n",
    "import torchvision\n",
    "import numpy as np\n",
    "\n",
    "accelerator = \"gpu\" if torch.cuda.is_available() else \"cpu\"\n"
   ]
  },
  {
   "cell_type": "markdown",
   "metadata": {},
   "source": [
    "## Pure Resnet on CIFAR-10 classification task\n",
    "\n",
    "The CIFAR-10 is an open collection of images often used for computer vision benchmarks. The dataset contains 60,000 32x32 color images in 10 different classes.\n",
    "\n",
    "<p align=\"center\">\n",
    "<img src=\"images/CIFAR10.png\" alt=\"Cifar\" width=\"300\"/>\n",
    "</p>\n",
    "\n",
    "\n",
    "\n",
    "\n",
    "Let's start by setting a baseline of a classification task of our model's backbone. We are using resnet18 here as our backone, so let's see how it performs on a subset of the CIFAR-10 data.\n"
   ]
  },
  {
   "cell_type": "markdown",
   "metadata": {},
   "source": [
    "#### Step 1. Data"
   ]
  },
  {
   "cell_type": "code",
   "execution_count": 2,
   "metadata": {
    "execution": {
     "iopub.execute_input": "2024-02-11T21:18:53.308526Z",
     "iopub.status.busy": "2024-02-11T21:18:53.307816Z",
     "iopub.status.idle": "2024-02-11T21:18:54.905044Z",
     "shell.execute_reply": "2024-02-11T21:18:54.904489Z",
     "shell.execute_reply.started": "2024-02-11T21:18:53.308504Z"
    }
   },
   "outputs": [
    {
     "name": "stdout",
     "output_type": "stream",
     "text": [
      "Files already downloaded and verified\n",
      "Files already downloaded and verified\n"
     ]
    },
    {
     "data": {
      "text/plain": [
       "Dataset CIFAR10\n",
       "    Number of datapoints: 50000\n",
       "    Root location: ./data\n",
       "    Split: Train\n",
       "    StandardTransform\n",
       "Transform: Compose(\n",
       "               ToTensor()\n",
       "               Normalize(mean=(0.5, 0.5, 0.5), std=(0.5, 0.5, 0.5))\n",
       "           )"
      ]
     },
     "execution_count": 2,
     "metadata": {},
     "output_type": "execute_result"
    }
   ],
   "source": [
    "no_transform = torchvision.transforms.Compose([\n",
    "    torchvision.transforms.ToTensor(),\n",
    "    torchvision.transforms.Normalize((0.5,0.5,0.5), (0.5,0.5,0.5))\n",
    "])\n",
    "cifar10_dataset = torchvision.datasets.CIFAR10(root='./data', train=True, download=True, transform=no_transform)\n",
    "cifar10_test_dataset = torchvision.datasets.CIFAR10(root='./data', train=False, download=True, transform=no_transform)\n",
    "cifar10_dataset\n"
   ]
  },
  {
   "cell_type": "markdown",
   "metadata": {},
   "source": [
    "Creating subsets $A$ and $B$."
   ]
  },
  {
   "cell_type": "code",
   "execution_count": 3,
   "metadata": {
    "execution": {
     "iopub.execute_input": "2024-02-11T21:18:54.906303Z",
     "iopub.status.busy": "2024-02-11T21:18:54.905725Z",
     "iopub.status.idle": "2024-02-11T21:18:54.912196Z",
     "shell.execute_reply": "2024-02-11T21:18:54.911786Z",
     "shell.execute_reply.started": "2024-02-11T21:18:54.906284Z"
    }
   },
   "outputs": [],
   "source": [
    "A_indices = np.random.choice(len(cifar10_dataset), int(len(cifar10_dataset)/2), replace=False)\n",
    "cifar10_subset_A = torch.utils.data.Subset(cifar10_dataset, A_indices)\n",
    "train_test_split = 0.8\n",
    "train_size = int(len(cifar10_subset_A)*train_test_split)\n",
    "val_size = len(cifar10_subset_A) - train_size\n",
    "train_dataset_A, val_dataset_A = torch.utils.data.random_split(cifar10_subset_A, [train_size, val_size])"
   ]
  },
  {
   "cell_type": "markdown",
   "metadata": {},
   "source": [
    "Dataloaders for supervised task."
   ]
  },
  {
   "cell_type": "code",
   "execution_count": 4,
   "metadata": {
    "execution": {
     "iopub.execute_input": "2024-02-11T21:18:54.913711Z",
     "iopub.status.busy": "2024-02-11T21:18:54.913320Z",
     "iopub.status.idle": "2024-02-11T21:18:54.917316Z",
     "shell.execute_reply": "2024-02-11T21:18:54.916770Z",
     "shell.execute_reply.started": "2024-02-11T21:18:54.913692Z"
    }
   },
   "outputs": [],
   "source": [
    "batch_size = 32\n",
    "train_loader = torch.utils.data.DataLoader(train_dataset_A, batch_size=batch_size, shuffle=True, num_workers=2)\n",
    "val_loader = torch.utils.data.DataLoader(val_dataset_A, batch_size=batch_size, shuffle=False, num_workers=2)\n",
    "test_loader = torch.utils.data.DataLoader(cifar10_test_dataset, batch_size=batch_size, shuffle=False, num_workers=2)"
   ]
  },
  {
   "cell_type": "markdown",
   "metadata": {},
   "source": [
    "### Step 2: Training ResNet model"
   ]
  },
  {
   "cell_type": "code",
   "execution_count": 5,
   "metadata": {
    "execution": {
     "iopub.execute_input": "2024-02-11T21:18:54.918576Z",
     "iopub.status.busy": "2024-02-11T21:18:54.918047Z",
     "iopub.status.idle": "2024-02-11T21:19:20.973740Z",
     "shell.execute_reply": "2024-02-11T21:19:20.973028Z",
     "shell.execute_reply.started": "2024-02-11T21:18:54.918558Z"
    }
   },
   "outputs": [
    {
     "name": "stderr",
     "output_type": "stream",
     "text": [
      "/home/rafael/miniconda3/envs/gengar/lib/python3.10/site-packages/torchvision/models/_utils.py:208: UserWarning: The parameter 'pretrained' is deprecated since 0.13 and may be removed in the future, please use 'weights' instead.\n",
      "  warnings.warn(\n",
      "/home/rafael/miniconda3/envs/gengar/lib/python3.10/site-packages/torchvision/models/_utils.py:223: UserWarning: Arguments other than a weight enum or `None` for 'weights' are deprecated since 0.13 and may be removed in the future. The current behavior is equivalent to passing `weights=None`.\n",
      "  warnings.warn(msg)\n"
     ]
    },
    {
     "name": "stderr",
     "output_type": "stream",
     "text": [
      "GPU available: True (cuda), used: True\n",
      "TPU available: False, using: 0 TPU cores\n",
      "IPU available: False, using: 0 IPUs\n",
      "HPU available: False, using: 0 HPUs\n"
     ]
    }
   ],
   "source": [
    "resnet_module = ResNetModule()\n",
    "\n",
    "resnet_trainer = pl.Trainer(\n",
    "    max_epochs=3,\n",
    "    devices=1,\n",
    "    accelerator=accelerator,\n",
    ")\n",
    "\n",
    "#resnet_trainer.fit(model=resnet_module, train_dataloaders=train_loader, val_dataloaders=val_loader)"
   ]
  },
  {
   "cell_type": "markdown",
   "metadata": {},
   "source": [
    "### Step 3: Training BYOL model on unlabelled data."
   ]
  },
  {
   "cell_type": "code",
   "execution_count": 6,
   "metadata": {
    "execution": {
     "iopub.execute_input": "2024-02-11T21:19:20.975534Z",
     "iopub.status.busy": "2024-02-11T21:19:20.974727Z",
     "iopub.status.idle": "2024-02-11T21:19:21.807846Z",
     "shell.execute_reply": "2024-02-11T21:19:21.807309Z",
     "shell.execute_reply.started": "2024-02-11T21:19:20.975508Z"
    }
   },
   "outputs": [
    {
     "name": "stdout",
     "output_type": "stream",
     "text": [
      "Files already downloaded and verified\n"
     ]
    }
   ],
   "source": [
    "transform = BYOLTransforms(\n",
    "    view1=BYOLTransforms1(input_size=32),\n",
    "    view2=BYOLTransforms1(input_size=32)\n",
    ")\n",
    "\n",
    "cifar10_dataset_byol = torchvision.datasets.CIFAR10(root='./data', train=True, download=True, transform=transform)\n",
    "B_indices = np.setdiff1d(np.arange(len(cifar10_dataset)), A_indices)\n",
    "cifar10_subset_B = torch.utils.data.Subset(cifar10_dataset_byol, B_indices)\n",
    "byol_batch_size = 2048 # byol batch size is usually a lot larger than the supervised batch size\n",
    "byol_dataloader = torch.utils.data.DataLoader(cifar10_subset_B, batch_size=byol_batch_size, shuffle=True, num_workers=2)"
   ]
  },
  {
   "cell_type": "code",
   "execution_count": 7,
   "metadata": {
    "execution": {
     "iopub.execute_input": "2024-02-11T21:19:21.809448Z",
     "iopub.status.busy": "2024-02-11T21:19:21.808693Z",
     "iopub.status.idle": "2024-02-11T21:20:07.815438Z",
     "shell.execute_reply": "2024-02-11T21:20:07.814867Z",
     "shell.execute_reply.started": "2024-02-11T21:19:21.809424Z"
    }
   },
   "outputs": [
    {
     "name": "stderr",
     "output_type": "stream",
     "text": [
      "GPU available: True (cuda), used: True\n",
      "TPU available: False, using: 0 TPU cores\n",
      "IPU available: False, using: 0 IPUs\n",
      "HPU available: False, using: 0 HPUs\n"
     ]
    },
    {
     "name": "stderr",
     "output_type": "stream",
     "text": [
      "2024-03-02 00:28:58.552623: I tensorflow/core/util/port.cc:110] oneDNN custom operations are on. You may see slightly different numerical results due to floating-point round-off errors from different computation orders. To turn them off, set the environment variable `TF_ENABLE_ONEDNN_OPTS=0`.\n",
      "2024-03-02 00:28:58.627617: I tensorflow/core/platform/cpu_feature_guard.cc:182] This TensorFlow binary is optimized to use available CPU instructions in performance-critical operations.\n",
      "To enable the following instructions: AVX2 AVX512F AVX512_VNNI FMA, in other operations, rebuild TensorFlow with the appropriate compiler flags.\n",
      "2024-03-02 00:28:59.819768: W tensorflow/compiler/tf2tensorrt/utils/py_utils.cc:38] TF-TRT Warning: Could not find TensorRT\n",
      "LOCAL_RANK: 0 - CUDA_VISIBLE_DEVICES: [0]\n",
      "\n",
      "  | Name                   | Type               | Params\n",
      "--------------------------------------------------------------\n",
      "0 | backbone               | Sequential         | 11.2 M\n",
      "1 | target_backbone        | Sequential         | 11.2 M\n",
      "2 | projection_head        | BYOLProjectionHead | 788 K \n",
      "3 | prediction_head        | BYOLPredictionHead | 526 K \n",
      "4 | target_projection_head | BYOLProjectionHead | 788 K \n",
      "5 | loss                   | CosineSimilarity   | 0     \n",
      "--------------------------------------------------------------\n",
      "1.3 M     Trainable params\n",
      "12.0 M    Non-trainable params\n",
      "13.3 M    Total params\n",
      "53.122    Total estimated model params size (MB)\n",
      "/home/rafael/miniconda3/envs/gengar/lib/python3.10/site-packages/pytorch_lightning/loops/fit_loop.py:293: The number of training batches (13) is smaller than the logging interval Trainer(log_every_n_steps=50). Set a lower value for log_every_n_steps if you want to see logs for the training epoch.\n"
     ]
    },
    {
     "name": "stdout",
     "output_type": "stream",
     "text": [
      "Epoch 4: 100%|██████████| 13/13 [00:19<00:00,  0.66it/s, v_num=37, train_loss=-.538]"
     ]
    },
    {
     "name": "stderr",
     "output_type": "stream",
     "text": [
      "`Trainer.fit` stopped: `max_epochs=5` reached.\n"
     ]
    },
    {
     "name": "stdout",
     "output_type": "stream",
     "text": [
      "Epoch 4: 100%|██████████| 13/13 [00:19<00:00,  0.66it/s, v_num=37, train_loss=-.538]\n"
     ]
    }
   ],
   "source": [
    "byol_module = BYOL(\n",
    "    model=resnet_module.model\n",
    ")\n",
    "\n",
    "byol_trainer = pl.Trainer(\n",
    "    max_epochs=5,\n",
    "    devices=1,\n",
    "    accelerator=accelerator,\n",
    ")\n",
    "\n",
    "byol_trainer.fit(model=byol_module, train_dataloaders=byol_dataloader) # our model never sees labeled data!"
   ]
  },
  {
   "cell_type": "markdown",
   "metadata": {},
   "source": [
    "### Step 4. Finetune BYOL-enhanced baseline on ResNet"
   ]
  },
  {
   "cell_type": "code",
   "execution_count": 8,
   "metadata": {
    "execution": {
     "iopub.execute_input": "2024-02-11T21:20:07.817241Z",
     "iopub.status.busy": "2024-02-11T21:20:07.817056Z",
     "iopub.status.idle": "2024-02-11T21:20:32.847110Z",
     "shell.execute_reply": "2024-02-11T21:20:32.846537Z",
     "shell.execute_reply.started": "2024-02-11T21:20:07.817223Z"
    }
   },
   "outputs": [
    {
     "name": "stderr",
     "output_type": "stream",
     "text": [
      "/home/rafael/miniconda3/envs/gengar/lib/python3.10/site-packages/torchvision/models/_utils.py:208: UserWarning: The parameter 'pretrained' is deprecated since 0.13 and may be removed in the future, please use 'weights' instead.\n",
      "  warnings.warn(\n",
      "/home/rafael/miniconda3/envs/gengar/lib/python3.10/site-packages/torchvision/models/_utils.py:223: UserWarning: Arguments other than a weight enum or `None` for 'weights' are deprecated since 0.13 and may be removed in the future. The current behavior is equivalent to passing `weights=None`.\n",
      "  warnings.warn(msg)\n",
      "GPU available: True (cuda), used: True\n",
      "TPU available: False, using: 0 TPU cores\n",
      "IPU available: False, using: 0 IPUs\n",
      "HPU available: False, using: 0 HPUs\n",
      "LOCAL_RANK: 0 - CUDA_VISIBLE_DEVICES: [0]\n",
      "\n",
      "  | Name  | Type       | Params\n",
      "-------------------------------------\n",
      "0 | model | Sequential | 11.2 M\n",
      "-------------------------------------\n",
      "11.2 M    Trainable params\n",
      "0         Non-trainable params\n",
      "11.2 M    Total params\n",
      "44.706    Total estimated model params size (MB)\n"
     ]
    },
    {
     "name": "stdout",
     "output_type": "stream",
     "text": [
      "Epoch 2: 100%|██████████| 625/625 [00:21<00:00, 28.49it/s, v_num=38, val_loss=1.210, train_loss=1.250]"
     ]
    },
    {
     "name": "stderr",
     "output_type": "stream",
     "text": [
      "`Trainer.fit` stopped: `max_epochs=3` reached.\n"
     ]
    },
    {
     "name": "stdout",
     "output_type": "stream",
     "text": [
      "Epoch 2: 100%|██████████| 625/625 [00:22<00:00, 28.04it/s, v_num=38, val_loss=1.210, train_loss=1.250]\n"
     ]
    }
   ],
   "source": [
    "byol_resnet = ResNetModule.from_byol(byol_module)\n",
    "\n",
    "byol_resnet_trainer = pl.Trainer(\n",
    "    max_epochs=3,\n",
    "    devices=1,\n",
    "    accelerator=accelerator,\n",
    ")\n",
    "\n",
    "byol_resnet_trainer.fit(model=byol_resnet, train_dataloaders=train_loader, val_dataloaders=val_loader)"
   ]
  },
  {
   "cell_type": "markdown",
   "metadata": {},
   "source": [
    "### Step 5. Testing both models on test dataset."
   ]
  },
  {
   "cell_type": "code",
   "execution_count": 9,
   "metadata": {
    "execution": {
     "iopub.execute_input": "2024-02-11T21:20:32.848187Z",
     "iopub.status.busy": "2024-02-11T21:20:32.848004Z",
     "iopub.status.idle": "2024-02-11T21:20:33.510167Z",
     "shell.execute_reply": "2024-02-11T21:20:33.509504Z",
     "shell.execute_reply.started": "2024-02-11T21:20:32.848169Z"
    }
   },
   "outputs": [
    {
     "name": "stdout",
     "output_type": "stream",
     "text": [
      "Files already downloaded and verified\n"
     ]
    }
   ],
   "source": [
    "predict_transform = torchvision.transforms.Compose(\n",
    "    [torchvision.transforms.ToTensor(),\n",
    "     torchvision.transforms.Normalize((0.5, 0.5, 0.5), (0.5, 0.5, 0.5))])\n",
    "\n",
    "\n",
    "test_dataset = torchvision.datasets.CIFAR10(root='./data', train=False, download=True, transform=predict_transform)\n",
    "test_loader = torch.utils.data.DataLoader(test_dataset, batch_size=32, shuffle=False, num_workers=2)\n"
   ]
  },
  {
   "cell_type": "code",
   "execution_count": 10,
   "metadata": {
    "execution": {
     "iopub.execute_input": "2024-02-11T21:20:33.513108Z",
     "iopub.status.busy": "2024-02-11T21:20:33.512494Z",
     "iopub.status.idle": "2024-02-11T21:20:35.611650Z",
     "shell.execute_reply": "2024-02-11T21:20:35.611157Z",
     "shell.execute_reply.started": "2024-02-11T21:20:33.513088Z"
    }
   },
   "outputs": [
    {
     "name": "stderr",
     "output_type": "stream",
     "text": [
      "LOCAL_RANK: 0 - CUDA_VISIBLE_DEVICES: [0]\n"
     ]
    },
    {
     "name": "stdout",
     "output_type": "stream",
     "text": [
      "Testing DataLoader 0:   0%|          | 0/313 [00:00<?, ?it/s]"
     ]
    },
    {
     "ename": "RuntimeError",
     "evalue": "Detected more unique values in `preds` than `num_classes`. Expected only 10 but found 23 in `preds`.",
     "output_type": "error",
     "traceback": [
      "\u001b[0;31m---------------------------------------------------------------------------\u001b[0m",
      "\u001b[0;31mRuntimeError\u001b[0m                              Traceback (most recent call last)",
      "Cell \u001b[0;32mIn[10], line 1\u001b[0m\n\u001b[0;32m----> 1\u001b[0m \u001b[43mresnet_trainer\u001b[49m\u001b[38;5;241;43m.\u001b[39;49m\u001b[43mtest\u001b[49m\u001b[43m(\u001b[49m\u001b[43mmodel\u001b[49m\u001b[38;5;241;43m=\u001b[39;49m\u001b[43mresnet_module\u001b[49m\u001b[43m,\u001b[49m\u001b[43m \u001b[49m\u001b[43mdataloaders\u001b[49m\u001b[38;5;241;43m=\u001b[39;49m\u001b[43mtest_loader\u001b[49m\u001b[43m)\u001b[49m\n",
      "File \u001b[0;32m~/miniconda3/envs/gengar/lib/python3.10/site-packages/pytorch_lightning/trainer/trainer.py:754\u001b[0m, in \u001b[0;36mTrainer.test\u001b[0;34m(self, model, dataloaders, ckpt_path, verbose, datamodule)\u001b[0m\n\u001b[1;32m    752\u001b[0m \u001b[38;5;28mself\u001b[39m\u001b[38;5;241m.\u001b[39mstate\u001b[38;5;241m.\u001b[39mstatus \u001b[38;5;241m=\u001b[39m TrainerStatus\u001b[38;5;241m.\u001b[39mRUNNING\n\u001b[1;32m    753\u001b[0m \u001b[38;5;28mself\u001b[39m\u001b[38;5;241m.\u001b[39mtesting \u001b[38;5;241m=\u001b[39m \u001b[38;5;28;01mTrue\u001b[39;00m\n\u001b[0;32m--> 754\u001b[0m \u001b[38;5;28;01mreturn\u001b[39;00m \u001b[43mcall\u001b[49m\u001b[38;5;241;43m.\u001b[39;49m\u001b[43m_call_and_handle_interrupt\u001b[49m\u001b[43m(\u001b[49m\n\u001b[1;32m    755\u001b[0m \u001b[43m    \u001b[49m\u001b[38;5;28;43mself\u001b[39;49m\u001b[43m,\u001b[49m\u001b[43m \u001b[49m\u001b[38;5;28;43mself\u001b[39;49m\u001b[38;5;241;43m.\u001b[39;49m\u001b[43m_test_impl\u001b[49m\u001b[43m,\u001b[49m\u001b[43m \u001b[49m\u001b[43mmodel\u001b[49m\u001b[43m,\u001b[49m\u001b[43m \u001b[49m\u001b[43mdataloaders\u001b[49m\u001b[43m,\u001b[49m\u001b[43m \u001b[49m\u001b[43mckpt_path\u001b[49m\u001b[43m,\u001b[49m\u001b[43m \u001b[49m\u001b[43mverbose\u001b[49m\u001b[43m,\u001b[49m\u001b[43m \u001b[49m\u001b[43mdatamodule\u001b[49m\n\u001b[1;32m    756\u001b[0m \u001b[43m\u001b[49m\u001b[43m)\u001b[49m\n",
      "File \u001b[0;32m~/miniconda3/envs/gengar/lib/python3.10/site-packages/pytorch_lightning/trainer/call.py:44\u001b[0m, in \u001b[0;36m_call_and_handle_interrupt\u001b[0;34m(trainer, trainer_fn, *args, **kwargs)\u001b[0m\n\u001b[1;32m     42\u001b[0m     \u001b[38;5;28;01mif\u001b[39;00m trainer\u001b[38;5;241m.\u001b[39mstrategy\u001b[38;5;241m.\u001b[39mlauncher \u001b[38;5;129;01mis\u001b[39;00m \u001b[38;5;129;01mnot\u001b[39;00m \u001b[38;5;28;01mNone\u001b[39;00m:\n\u001b[1;32m     43\u001b[0m         \u001b[38;5;28;01mreturn\u001b[39;00m trainer\u001b[38;5;241m.\u001b[39mstrategy\u001b[38;5;241m.\u001b[39mlauncher\u001b[38;5;241m.\u001b[39mlaunch(trainer_fn, \u001b[38;5;241m*\u001b[39margs, trainer\u001b[38;5;241m=\u001b[39mtrainer, \u001b[38;5;241m*\u001b[39m\u001b[38;5;241m*\u001b[39mkwargs)\n\u001b[0;32m---> 44\u001b[0m     \u001b[38;5;28;01mreturn\u001b[39;00m \u001b[43mtrainer_fn\u001b[49m\u001b[43m(\u001b[49m\u001b[38;5;241;43m*\u001b[39;49m\u001b[43margs\u001b[49m\u001b[43m,\u001b[49m\u001b[43m \u001b[49m\u001b[38;5;241;43m*\u001b[39;49m\u001b[38;5;241;43m*\u001b[39;49m\u001b[43mkwargs\u001b[49m\u001b[43m)\u001b[49m\n\u001b[1;32m     46\u001b[0m \u001b[38;5;28;01mexcept\u001b[39;00m _TunerExitException:\n\u001b[1;32m     47\u001b[0m     _call_teardown_hook(trainer)\n",
      "File \u001b[0;32m~/miniconda3/envs/gengar/lib/python3.10/site-packages/pytorch_lightning/trainer/trainer.py:794\u001b[0m, in \u001b[0;36mTrainer._test_impl\u001b[0;34m(self, model, dataloaders, ckpt_path, verbose, datamodule)\u001b[0m\n\u001b[1;32m    790\u001b[0m \u001b[38;5;28;01massert\u001b[39;00m \u001b[38;5;28mself\u001b[39m\u001b[38;5;241m.\u001b[39mstate\u001b[38;5;241m.\u001b[39mfn \u001b[38;5;129;01mis\u001b[39;00m \u001b[38;5;129;01mnot\u001b[39;00m \u001b[38;5;28;01mNone\u001b[39;00m\n\u001b[1;32m    791\u001b[0m ckpt_path \u001b[38;5;241m=\u001b[39m \u001b[38;5;28mself\u001b[39m\u001b[38;5;241m.\u001b[39m_checkpoint_connector\u001b[38;5;241m.\u001b[39m_select_ckpt_path(\n\u001b[1;32m    792\u001b[0m     \u001b[38;5;28mself\u001b[39m\u001b[38;5;241m.\u001b[39mstate\u001b[38;5;241m.\u001b[39mfn, ckpt_path, model_provided\u001b[38;5;241m=\u001b[39mmodel_provided, model_connected\u001b[38;5;241m=\u001b[39m\u001b[38;5;28mself\u001b[39m\u001b[38;5;241m.\u001b[39mlightning_module \u001b[38;5;129;01mis\u001b[39;00m \u001b[38;5;129;01mnot\u001b[39;00m \u001b[38;5;28;01mNone\u001b[39;00m\n\u001b[1;32m    793\u001b[0m )\n\u001b[0;32m--> 794\u001b[0m results \u001b[38;5;241m=\u001b[39m \u001b[38;5;28;43mself\u001b[39;49m\u001b[38;5;241;43m.\u001b[39;49m\u001b[43m_run\u001b[49m\u001b[43m(\u001b[49m\u001b[43mmodel\u001b[49m\u001b[43m,\u001b[49m\u001b[43m \u001b[49m\u001b[43mckpt_path\u001b[49m\u001b[38;5;241;43m=\u001b[39;49m\u001b[43mckpt_path\u001b[49m\u001b[43m)\u001b[49m\n\u001b[1;32m    795\u001b[0m \u001b[38;5;66;03m# remove the tensors from the test results\u001b[39;00m\n\u001b[1;32m    796\u001b[0m results \u001b[38;5;241m=\u001b[39m convert_tensors_to_scalars(results)\n",
      "File \u001b[0;32m~/miniconda3/envs/gengar/lib/python3.10/site-packages/pytorch_lightning/trainer/trainer.py:989\u001b[0m, in \u001b[0;36mTrainer._run\u001b[0;34m(self, model, ckpt_path)\u001b[0m\n\u001b[1;32m    984\u001b[0m \u001b[38;5;28mself\u001b[39m\u001b[38;5;241m.\u001b[39m_signal_connector\u001b[38;5;241m.\u001b[39mregister_signal_handlers()\n\u001b[1;32m    986\u001b[0m \u001b[38;5;66;03m# ----------------------------\u001b[39;00m\n\u001b[1;32m    987\u001b[0m \u001b[38;5;66;03m# RUN THE TRAINER\u001b[39;00m\n\u001b[1;32m    988\u001b[0m \u001b[38;5;66;03m# ----------------------------\u001b[39;00m\n\u001b[0;32m--> 989\u001b[0m results \u001b[38;5;241m=\u001b[39m \u001b[38;5;28;43mself\u001b[39;49m\u001b[38;5;241;43m.\u001b[39;49m\u001b[43m_run_stage\u001b[49m\u001b[43m(\u001b[49m\u001b[43m)\u001b[49m\n\u001b[1;32m    991\u001b[0m \u001b[38;5;66;03m# ----------------------------\u001b[39;00m\n\u001b[1;32m    992\u001b[0m \u001b[38;5;66;03m# POST-Training CLEAN UP\u001b[39;00m\n\u001b[1;32m    993\u001b[0m \u001b[38;5;66;03m# ----------------------------\u001b[39;00m\n\u001b[1;32m    994\u001b[0m log\u001b[38;5;241m.\u001b[39mdebug(\u001b[38;5;124mf\u001b[39m\u001b[38;5;124m\"\u001b[39m\u001b[38;5;132;01m{\u001b[39;00m\u001b[38;5;28mself\u001b[39m\u001b[38;5;241m.\u001b[39m\u001b[38;5;18m__class__\u001b[39m\u001b[38;5;241m.\u001b[39m\u001b[38;5;18m__name__\u001b[39m\u001b[38;5;132;01m}\u001b[39;00m\u001b[38;5;124m: trainer tearing down\u001b[39m\u001b[38;5;124m\"\u001b[39m)\n",
      "File \u001b[0;32m~/miniconda3/envs/gengar/lib/python3.10/site-packages/pytorch_lightning/trainer/trainer.py:1028\u001b[0m, in \u001b[0;36mTrainer._run_stage\u001b[0;34m(self)\u001b[0m\n\u001b[1;32m   1025\u001b[0m \u001b[38;5;28mself\u001b[39m\u001b[38;5;241m.\u001b[39mlightning_module\u001b[38;5;241m.\u001b[39mzero_grad(\u001b[38;5;241m*\u001b[39m\u001b[38;5;241m*\u001b[39mzero_grad_kwargs)\n\u001b[1;32m   1027\u001b[0m \u001b[38;5;28;01mif\u001b[39;00m \u001b[38;5;28mself\u001b[39m\u001b[38;5;241m.\u001b[39mevaluating:\n\u001b[0;32m-> 1028\u001b[0m     \u001b[38;5;28;01mreturn\u001b[39;00m \u001b[38;5;28;43mself\u001b[39;49m\u001b[38;5;241;43m.\u001b[39;49m\u001b[43m_evaluation_loop\u001b[49m\u001b[38;5;241;43m.\u001b[39;49m\u001b[43mrun\u001b[49m\u001b[43m(\u001b[49m\u001b[43m)\u001b[49m\n\u001b[1;32m   1029\u001b[0m \u001b[38;5;28;01mif\u001b[39;00m \u001b[38;5;28mself\u001b[39m\u001b[38;5;241m.\u001b[39mpredicting:\n\u001b[1;32m   1030\u001b[0m     \u001b[38;5;28;01mreturn\u001b[39;00m \u001b[38;5;28mself\u001b[39m\u001b[38;5;241m.\u001b[39mpredict_loop\u001b[38;5;241m.\u001b[39mrun()\n",
      "File \u001b[0;32m~/miniconda3/envs/gengar/lib/python3.10/site-packages/pytorch_lightning/loops/utilities.py:182\u001b[0m, in \u001b[0;36m_no_grad_context.<locals>._decorator\u001b[0;34m(self, *args, **kwargs)\u001b[0m\n\u001b[1;32m    180\u001b[0m     context_manager \u001b[38;5;241m=\u001b[39m torch\u001b[38;5;241m.\u001b[39mno_grad\n\u001b[1;32m    181\u001b[0m \u001b[38;5;28;01mwith\u001b[39;00m context_manager():\n\u001b[0;32m--> 182\u001b[0m     \u001b[38;5;28;01mreturn\u001b[39;00m \u001b[43mloop_run\u001b[49m\u001b[43m(\u001b[49m\u001b[38;5;28;43mself\u001b[39;49m\u001b[43m,\u001b[49m\u001b[43m \u001b[49m\u001b[38;5;241;43m*\u001b[39;49m\u001b[43margs\u001b[49m\u001b[43m,\u001b[49m\u001b[43m \u001b[49m\u001b[38;5;241;43m*\u001b[39;49m\u001b[38;5;241;43m*\u001b[39;49m\u001b[43mkwargs\u001b[49m\u001b[43m)\u001b[49m\n",
      "File \u001b[0;32m~/miniconda3/envs/gengar/lib/python3.10/site-packages/pytorch_lightning/loops/evaluation_loop.py:134\u001b[0m, in \u001b[0;36m_EvaluationLoop.run\u001b[0;34m(self)\u001b[0m\n\u001b[1;32m    132\u001b[0m     \u001b[38;5;28mself\u001b[39m\u001b[38;5;241m.\u001b[39mbatch_progress\u001b[38;5;241m.\u001b[39mis_last_batch \u001b[38;5;241m=\u001b[39m data_fetcher\u001b[38;5;241m.\u001b[39mdone\n\u001b[1;32m    133\u001b[0m     \u001b[38;5;66;03m# run step hooks\u001b[39;00m\n\u001b[0;32m--> 134\u001b[0m     \u001b[38;5;28;43mself\u001b[39;49m\u001b[38;5;241;43m.\u001b[39;49m\u001b[43m_evaluation_step\u001b[49m\u001b[43m(\u001b[49m\u001b[43mbatch\u001b[49m\u001b[43m,\u001b[49m\u001b[43m \u001b[49m\u001b[43mbatch_idx\u001b[49m\u001b[43m,\u001b[49m\u001b[43m \u001b[49m\u001b[43mdataloader_idx\u001b[49m\u001b[43m,\u001b[49m\u001b[43m \u001b[49m\u001b[43mdataloader_iter\u001b[49m\u001b[43m)\u001b[49m\n\u001b[1;32m    135\u001b[0m \u001b[38;5;28;01mexcept\u001b[39;00m \u001b[38;5;167;01mStopIteration\u001b[39;00m:\n\u001b[1;32m    136\u001b[0m     \u001b[38;5;66;03m# this needs to wrap the `*_step` call too (not just `next`) for `dataloader_iter` support\u001b[39;00m\n\u001b[1;32m    137\u001b[0m     \u001b[38;5;28;01mbreak\u001b[39;00m\n",
      "File \u001b[0;32m~/miniconda3/envs/gengar/lib/python3.10/site-packages/pytorch_lightning/loops/evaluation_loop.py:391\u001b[0m, in \u001b[0;36m_EvaluationLoop._evaluation_step\u001b[0;34m(self, batch, batch_idx, dataloader_idx, dataloader_iter)\u001b[0m\n\u001b[1;32m    385\u001b[0m hook_name \u001b[38;5;241m=\u001b[39m \u001b[38;5;124m\"\u001b[39m\u001b[38;5;124mtest_step\u001b[39m\u001b[38;5;124m\"\u001b[39m \u001b[38;5;28;01mif\u001b[39;00m trainer\u001b[38;5;241m.\u001b[39mtesting \u001b[38;5;28;01melse\u001b[39;00m \u001b[38;5;124m\"\u001b[39m\u001b[38;5;124mvalidation_step\u001b[39m\u001b[38;5;124m\"\u001b[39m\n\u001b[1;32m    386\u001b[0m step_args \u001b[38;5;241m=\u001b[39m (\n\u001b[1;32m    387\u001b[0m     \u001b[38;5;28mself\u001b[39m\u001b[38;5;241m.\u001b[39m_build_step_args_from_hook_kwargs(hook_kwargs, hook_name)\n\u001b[1;32m    388\u001b[0m     \u001b[38;5;28;01mif\u001b[39;00m \u001b[38;5;129;01mnot\u001b[39;00m using_dataloader_iter\n\u001b[1;32m    389\u001b[0m     \u001b[38;5;28;01melse\u001b[39;00m (dataloader_iter,)\n\u001b[1;32m    390\u001b[0m )\n\u001b[0;32m--> 391\u001b[0m output \u001b[38;5;241m=\u001b[39m \u001b[43mcall\u001b[49m\u001b[38;5;241;43m.\u001b[39;49m\u001b[43m_call_strategy_hook\u001b[49m\u001b[43m(\u001b[49m\u001b[43mtrainer\u001b[49m\u001b[43m,\u001b[49m\u001b[43m \u001b[49m\u001b[43mhook_name\u001b[49m\u001b[43m,\u001b[49m\u001b[43m \u001b[49m\u001b[38;5;241;43m*\u001b[39;49m\u001b[43mstep_args\u001b[49m\u001b[43m)\u001b[49m\n\u001b[1;32m    393\u001b[0m \u001b[38;5;28mself\u001b[39m\u001b[38;5;241m.\u001b[39mbatch_progress\u001b[38;5;241m.\u001b[39mincrement_processed()\n\u001b[1;32m    395\u001b[0m \u001b[38;5;28;01mif\u001b[39;00m using_dataloader_iter:\n\u001b[1;32m    396\u001b[0m     \u001b[38;5;66;03m# update the hook kwargs now that the step method might have consumed the iterator\u001b[39;00m\n",
      "File \u001b[0;32m~/miniconda3/envs/gengar/lib/python3.10/site-packages/pytorch_lightning/trainer/call.py:309\u001b[0m, in \u001b[0;36m_call_strategy_hook\u001b[0;34m(trainer, hook_name, *args, **kwargs)\u001b[0m\n\u001b[1;32m    306\u001b[0m     \u001b[38;5;28;01mreturn\u001b[39;00m \u001b[38;5;28;01mNone\u001b[39;00m\n\u001b[1;32m    308\u001b[0m \u001b[38;5;28;01mwith\u001b[39;00m trainer\u001b[38;5;241m.\u001b[39mprofiler\u001b[38;5;241m.\u001b[39mprofile(\u001b[38;5;124mf\u001b[39m\u001b[38;5;124m\"\u001b[39m\u001b[38;5;124m[Strategy]\u001b[39m\u001b[38;5;132;01m{\u001b[39;00mtrainer\u001b[38;5;241m.\u001b[39mstrategy\u001b[38;5;241m.\u001b[39m\u001b[38;5;18m__class__\u001b[39m\u001b[38;5;241m.\u001b[39m\u001b[38;5;18m__name__\u001b[39m\u001b[38;5;132;01m}\u001b[39;00m\u001b[38;5;124m.\u001b[39m\u001b[38;5;132;01m{\u001b[39;00mhook_name\u001b[38;5;132;01m}\u001b[39;00m\u001b[38;5;124m\"\u001b[39m):\n\u001b[0;32m--> 309\u001b[0m     output \u001b[38;5;241m=\u001b[39m \u001b[43mfn\u001b[49m\u001b[43m(\u001b[49m\u001b[38;5;241;43m*\u001b[39;49m\u001b[43margs\u001b[49m\u001b[43m,\u001b[49m\u001b[43m \u001b[49m\u001b[38;5;241;43m*\u001b[39;49m\u001b[38;5;241;43m*\u001b[39;49m\u001b[43mkwargs\u001b[49m\u001b[43m)\u001b[49m\n\u001b[1;32m    311\u001b[0m \u001b[38;5;66;03m# restore current_fx when nested context\u001b[39;00m\n\u001b[1;32m    312\u001b[0m pl_module\u001b[38;5;241m.\u001b[39m_current_fx_name \u001b[38;5;241m=\u001b[39m prev_fx_name\n",
      "File \u001b[0;32m~/miniconda3/envs/gengar/lib/python3.10/site-packages/pytorch_lightning/strategies/strategy.py:416\u001b[0m, in \u001b[0;36mStrategy.test_step\u001b[0;34m(self, *args, **kwargs)\u001b[0m\n\u001b[1;32m    414\u001b[0m \u001b[38;5;28;01mif\u001b[39;00m \u001b[38;5;28mself\u001b[39m\u001b[38;5;241m.\u001b[39mmodel \u001b[38;5;241m!=\u001b[39m \u001b[38;5;28mself\u001b[39m\u001b[38;5;241m.\u001b[39mlightning_module:\n\u001b[1;32m    415\u001b[0m     \u001b[38;5;28;01mreturn\u001b[39;00m \u001b[38;5;28mself\u001b[39m\u001b[38;5;241m.\u001b[39m_forward_redirection(\u001b[38;5;28mself\u001b[39m\u001b[38;5;241m.\u001b[39mmodel, \u001b[38;5;28mself\u001b[39m\u001b[38;5;241m.\u001b[39mlightning_module, \u001b[38;5;124m\"\u001b[39m\u001b[38;5;124mtest_step\u001b[39m\u001b[38;5;124m\"\u001b[39m, \u001b[38;5;241m*\u001b[39margs, \u001b[38;5;241m*\u001b[39m\u001b[38;5;241m*\u001b[39mkwargs)\n\u001b[0;32m--> 416\u001b[0m \u001b[38;5;28;01mreturn\u001b[39;00m \u001b[38;5;28;43mself\u001b[39;49m\u001b[38;5;241;43m.\u001b[39;49m\u001b[43mlightning_module\u001b[49m\u001b[38;5;241;43m.\u001b[39;49m\u001b[43mtest_step\u001b[49m\u001b[43m(\u001b[49m\u001b[38;5;241;43m*\u001b[39;49m\u001b[43margs\u001b[49m\u001b[43m,\u001b[49m\u001b[43m \u001b[49m\u001b[38;5;241;43m*\u001b[39;49m\u001b[38;5;241;43m*\u001b[39;49m\u001b[43mkwargs\u001b[49m\u001b[43m)\u001b[49m\n",
      "File \u001b[0;32m~/Documents/Personal/ISAE/byol/examples/./../byol/models/resnet.py:43\u001b[0m, in \u001b[0;36mResNetModule.test_step\u001b[0;34m(self, batch, batch_idx)\u001b[0m\n\u001b[1;32m     41\u001b[0m loss \u001b[38;5;241m=\u001b[39m nn\u001b[38;5;241m.\u001b[39mCrossEntropyLoss()(y_hat, y)\n\u001b[1;32m     42\u001b[0m accuracy \u001b[38;5;241m=\u001b[39m Accuracy(task\u001b[38;5;241m=\u001b[39m\u001b[38;5;124m'\u001b[39m\u001b[38;5;124mmulticlass\u001b[39m\u001b[38;5;124m'\u001b[39m, num_classes\u001b[38;5;241m=\u001b[39m\u001b[38;5;241m10\u001b[39m)\u001b[38;5;241m.\u001b[39mto(\u001b[38;5;28mself\u001b[39m\u001b[38;5;241m.\u001b[39mdevice)\n\u001b[0;32m---> 43\u001b[0m acc \u001b[38;5;241m=\u001b[39m \u001b[43maccuracy\u001b[49m\u001b[43m(\u001b[49m\u001b[43mpreds\u001b[49m\u001b[43m,\u001b[49m\u001b[43m \u001b[49m\u001b[43my\u001b[49m\u001b[43m)\u001b[49m\n\u001b[1;32m     44\u001b[0m \u001b[38;5;28mself\u001b[39m\u001b[38;5;241m.\u001b[39mlog(\u001b[38;5;124m'\u001b[39m\u001b[38;5;124maccuracy\u001b[39m\u001b[38;5;124m'\u001b[39m, acc)\n\u001b[1;32m     45\u001b[0m \u001b[38;5;28mself\u001b[39m\u001b[38;5;241m.\u001b[39mlog(\u001b[38;5;124m'\u001b[39m\u001b[38;5;124mtest_loss\u001b[39m\u001b[38;5;124m'\u001b[39m, loss)\n",
      "File \u001b[0;32m~/miniconda3/envs/gengar/lib/python3.10/site-packages/torch/nn/modules/module.py:1518\u001b[0m, in \u001b[0;36mModule._wrapped_call_impl\u001b[0;34m(self, *args, **kwargs)\u001b[0m\n\u001b[1;32m   1516\u001b[0m     \u001b[38;5;28;01mreturn\u001b[39;00m \u001b[38;5;28mself\u001b[39m\u001b[38;5;241m.\u001b[39m_compiled_call_impl(\u001b[38;5;241m*\u001b[39margs, \u001b[38;5;241m*\u001b[39m\u001b[38;5;241m*\u001b[39mkwargs)  \u001b[38;5;66;03m# type: ignore[misc]\u001b[39;00m\n\u001b[1;32m   1517\u001b[0m \u001b[38;5;28;01melse\u001b[39;00m:\n\u001b[0;32m-> 1518\u001b[0m     \u001b[38;5;28;01mreturn\u001b[39;00m \u001b[38;5;28;43mself\u001b[39;49m\u001b[38;5;241;43m.\u001b[39;49m\u001b[43m_call_impl\u001b[49m\u001b[43m(\u001b[49m\u001b[38;5;241;43m*\u001b[39;49m\u001b[43margs\u001b[49m\u001b[43m,\u001b[49m\u001b[43m \u001b[49m\u001b[38;5;241;43m*\u001b[39;49m\u001b[38;5;241;43m*\u001b[39;49m\u001b[43mkwargs\u001b[49m\u001b[43m)\u001b[49m\n",
      "File \u001b[0;32m~/miniconda3/envs/gengar/lib/python3.10/site-packages/torch/nn/modules/module.py:1527\u001b[0m, in \u001b[0;36mModule._call_impl\u001b[0;34m(self, *args, **kwargs)\u001b[0m\n\u001b[1;32m   1522\u001b[0m \u001b[38;5;66;03m# If we don't have any hooks, we want to skip the rest of the logic in\u001b[39;00m\n\u001b[1;32m   1523\u001b[0m \u001b[38;5;66;03m# this function, and just call forward.\u001b[39;00m\n\u001b[1;32m   1524\u001b[0m \u001b[38;5;28;01mif\u001b[39;00m \u001b[38;5;129;01mnot\u001b[39;00m (\u001b[38;5;28mself\u001b[39m\u001b[38;5;241m.\u001b[39m_backward_hooks \u001b[38;5;129;01mor\u001b[39;00m \u001b[38;5;28mself\u001b[39m\u001b[38;5;241m.\u001b[39m_backward_pre_hooks \u001b[38;5;129;01mor\u001b[39;00m \u001b[38;5;28mself\u001b[39m\u001b[38;5;241m.\u001b[39m_forward_hooks \u001b[38;5;129;01mor\u001b[39;00m \u001b[38;5;28mself\u001b[39m\u001b[38;5;241m.\u001b[39m_forward_pre_hooks\n\u001b[1;32m   1525\u001b[0m         \u001b[38;5;129;01mor\u001b[39;00m _global_backward_pre_hooks \u001b[38;5;129;01mor\u001b[39;00m _global_backward_hooks\n\u001b[1;32m   1526\u001b[0m         \u001b[38;5;129;01mor\u001b[39;00m _global_forward_hooks \u001b[38;5;129;01mor\u001b[39;00m _global_forward_pre_hooks):\n\u001b[0;32m-> 1527\u001b[0m     \u001b[38;5;28;01mreturn\u001b[39;00m \u001b[43mforward_call\u001b[49m\u001b[43m(\u001b[49m\u001b[38;5;241;43m*\u001b[39;49m\u001b[43margs\u001b[49m\u001b[43m,\u001b[49m\u001b[43m \u001b[49m\u001b[38;5;241;43m*\u001b[39;49m\u001b[38;5;241;43m*\u001b[39;49m\u001b[43mkwargs\u001b[49m\u001b[43m)\u001b[49m\n\u001b[1;32m   1529\u001b[0m \u001b[38;5;28;01mtry\u001b[39;00m:\n\u001b[1;32m   1530\u001b[0m     result \u001b[38;5;241m=\u001b[39m \u001b[38;5;28;01mNone\u001b[39;00m\n",
      "File \u001b[0;32m~/miniconda3/envs/gengar/lib/python3.10/site-packages/torchmetrics/metric.py:298\u001b[0m, in \u001b[0;36mMetric.forward\u001b[0;34m(self, *args, **kwargs)\u001b[0m\n\u001b[1;32m    296\u001b[0m     \u001b[38;5;28mself\u001b[39m\u001b[38;5;241m.\u001b[39m_forward_cache \u001b[38;5;241m=\u001b[39m \u001b[38;5;28mself\u001b[39m\u001b[38;5;241m.\u001b[39m_forward_full_state_update(\u001b[38;5;241m*\u001b[39margs, \u001b[38;5;241m*\u001b[39m\u001b[38;5;241m*\u001b[39mkwargs)\n\u001b[1;32m    297\u001b[0m \u001b[38;5;28;01melse\u001b[39;00m:\n\u001b[0;32m--> 298\u001b[0m     \u001b[38;5;28mself\u001b[39m\u001b[38;5;241m.\u001b[39m_forward_cache \u001b[38;5;241m=\u001b[39m \u001b[38;5;28;43mself\u001b[39;49m\u001b[38;5;241;43m.\u001b[39;49m\u001b[43m_forward_reduce_state_update\u001b[49m\u001b[43m(\u001b[49m\u001b[38;5;241;43m*\u001b[39;49m\u001b[43margs\u001b[49m\u001b[43m,\u001b[49m\u001b[43m \u001b[49m\u001b[38;5;241;43m*\u001b[39;49m\u001b[38;5;241;43m*\u001b[39;49m\u001b[43mkwargs\u001b[49m\u001b[43m)\u001b[49m\n\u001b[1;32m    300\u001b[0m \u001b[38;5;28;01mreturn\u001b[39;00m \u001b[38;5;28mself\u001b[39m\u001b[38;5;241m.\u001b[39m_forward_cache\n",
      "File \u001b[0;32m~/miniconda3/envs/gengar/lib/python3.10/site-packages/torchmetrics/metric.py:367\u001b[0m, in \u001b[0;36mMetric._forward_reduce_state_update\u001b[0;34m(self, *args, **kwargs)\u001b[0m\n\u001b[1;32m    364\u001b[0m \u001b[38;5;28mself\u001b[39m\u001b[38;5;241m.\u001b[39m_enable_grad \u001b[38;5;241m=\u001b[39m \u001b[38;5;28;01mTrue\u001b[39;00m  \u001b[38;5;66;03m# allow grads for batch computation\u001b[39;00m\n\u001b[1;32m    366\u001b[0m \u001b[38;5;66;03m# calculate batch state and compute batch value\u001b[39;00m\n\u001b[0;32m--> 367\u001b[0m \u001b[38;5;28;43mself\u001b[39;49m\u001b[38;5;241;43m.\u001b[39;49m\u001b[43mupdate\u001b[49m\u001b[43m(\u001b[49m\u001b[38;5;241;43m*\u001b[39;49m\u001b[43margs\u001b[49m\u001b[43m,\u001b[49m\u001b[43m \u001b[49m\u001b[38;5;241;43m*\u001b[39;49m\u001b[38;5;241;43m*\u001b[39;49m\u001b[43mkwargs\u001b[49m\u001b[43m)\u001b[49m\n\u001b[1;32m    368\u001b[0m batch_val \u001b[38;5;241m=\u001b[39m \u001b[38;5;28mself\u001b[39m\u001b[38;5;241m.\u001b[39mcompute()\n\u001b[1;32m    370\u001b[0m \u001b[38;5;66;03m# reduce batch and global state\u001b[39;00m\n",
      "File \u001b[0;32m~/miniconda3/envs/gengar/lib/python3.10/site-packages/torchmetrics/metric.py:470\u001b[0m, in \u001b[0;36mMetric._wrap_update.<locals>.wrapped_func\u001b[0;34m(*args, **kwargs)\u001b[0m\n\u001b[1;32m    462\u001b[0m         \u001b[38;5;28;01mif\u001b[39;00m \u001b[38;5;124m\"\u001b[39m\u001b[38;5;124mExpected all tensors to be on\u001b[39m\u001b[38;5;124m\"\u001b[39m \u001b[38;5;129;01min\u001b[39;00m \u001b[38;5;28mstr\u001b[39m(err):\n\u001b[1;32m    463\u001b[0m             \u001b[38;5;28;01mraise\u001b[39;00m \u001b[38;5;167;01mRuntimeError\u001b[39;00m(\n\u001b[1;32m    464\u001b[0m                 \u001b[38;5;124m\"\u001b[39m\u001b[38;5;124mEncountered different devices in metric calculation (see stacktrace for details).\u001b[39m\u001b[38;5;124m\"\u001b[39m\n\u001b[1;32m    465\u001b[0m                 \u001b[38;5;124m\"\u001b[39m\u001b[38;5;124m This could be due to the metric class not being on the same device as input.\u001b[39m\u001b[38;5;124m\"\u001b[39m\n\u001b[0;32m   (...)\u001b[0m\n\u001b[1;32m    468\u001b[0m                 \u001b[38;5;124m\"\u001b[39m\u001b[38;5;124m device corresponds to the device of the input.\u001b[39m\u001b[38;5;124m\"\u001b[39m\n\u001b[1;32m    469\u001b[0m             ) \u001b[38;5;28;01mfrom\u001b[39;00m \u001b[38;5;21;01merr\u001b[39;00m\n\u001b[0;32m--> 470\u001b[0m         \u001b[38;5;28;01mraise\u001b[39;00m err\n\u001b[1;32m    472\u001b[0m \u001b[38;5;28;01mif\u001b[39;00m \u001b[38;5;28mself\u001b[39m\u001b[38;5;241m.\u001b[39mcompute_on_cpu:\n\u001b[1;32m    473\u001b[0m     \u001b[38;5;28mself\u001b[39m\u001b[38;5;241m.\u001b[39m_move_list_states_to_cpu()\n",
      "File \u001b[0;32m~/miniconda3/envs/gengar/lib/python3.10/site-packages/torchmetrics/metric.py:460\u001b[0m, in \u001b[0;36mMetric._wrap_update.<locals>.wrapped_func\u001b[0;34m(*args, **kwargs)\u001b[0m\n\u001b[1;32m    458\u001b[0m \u001b[38;5;28;01mwith\u001b[39;00m torch\u001b[38;5;241m.\u001b[39mset_grad_enabled(\u001b[38;5;28mself\u001b[39m\u001b[38;5;241m.\u001b[39m_enable_grad):\n\u001b[1;32m    459\u001b[0m     \u001b[38;5;28;01mtry\u001b[39;00m:\n\u001b[0;32m--> 460\u001b[0m         \u001b[43mupdate\u001b[49m\u001b[43m(\u001b[49m\u001b[38;5;241;43m*\u001b[39;49m\u001b[43margs\u001b[49m\u001b[43m,\u001b[49m\u001b[43m \u001b[49m\u001b[38;5;241;43m*\u001b[39;49m\u001b[38;5;241;43m*\u001b[39;49m\u001b[43mkwargs\u001b[49m\u001b[43m)\u001b[49m\n\u001b[1;32m    461\u001b[0m     \u001b[38;5;28;01mexcept\u001b[39;00m \u001b[38;5;167;01mRuntimeError\u001b[39;00m \u001b[38;5;28;01mas\u001b[39;00m err:\n\u001b[1;32m    462\u001b[0m         \u001b[38;5;28;01mif\u001b[39;00m \u001b[38;5;124m\"\u001b[39m\u001b[38;5;124mExpected all tensors to be on\u001b[39m\u001b[38;5;124m\"\u001b[39m \u001b[38;5;129;01min\u001b[39;00m \u001b[38;5;28mstr\u001b[39m(err):\n",
      "File \u001b[0;32m~/miniconda3/envs/gengar/lib/python3.10/site-packages/torchmetrics/classification/stat_scores.py:331\u001b[0m, in \u001b[0;36mMulticlassStatScores.update\u001b[0;34m(self, preds, target)\u001b[0m\n\u001b[1;32m    329\u001b[0m \u001b[38;5;250m\u001b[39m\u001b[38;5;124;03m\"\"\"Update state with predictions and targets.\"\"\"\u001b[39;00m\n\u001b[1;32m    330\u001b[0m \u001b[38;5;28;01mif\u001b[39;00m \u001b[38;5;28mself\u001b[39m\u001b[38;5;241m.\u001b[39mvalidate_args:\n\u001b[0;32m--> 331\u001b[0m     \u001b[43m_multiclass_stat_scores_tensor_validation\u001b[49m\u001b[43m(\u001b[49m\n\u001b[1;32m    332\u001b[0m \u001b[43m        \u001b[49m\u001b[43mpreds\u001b[49m\u001b[43m,\u001b[49m\u001b[43m \u001b[49m\u001b[43mtarget\u001b[49m\u001b[43m,\u001b[49m\u001b[43m \u001b[49m\u001b[38;5;28;43mself\u001b[39;49m\u001b[38;5;241;43m.\u001b[39;49m\u001b[43mnum_classes\u001b[49m\u001b[43m,\u001b[49m\u001b[43m \u001b[49m\u001b[38;5;28;43mself\u001b[39;49m\u001b[38;5;241;43m.\u001b[39;49m\u001b[43mmultidim_average\u001b[49m\u001b[43m,\u001b[49m\u001b[43m \u001b[49m\u001b[38;5;28;43mself\u001b[39;49m\u001b[38;5;241;43m.\u001b[39;49m\u001b[43mignore_index\u001b[49m\n\u001b[1;32m    333\u001b[0m \u001b[43m    \u001b[49m\u001b[43m)\u001b[49m\n\u001b[1;32m    334\u001b[0m preds, target \u001b[38;5;241m=\u001b[39m _multiclass_stat_scores_format(preds, target, \u001b[38;5;28mself\u001b[39m\u001b[38;5;241m.\u001b[39mtop_k)\n\u001b[1;32m    335\u001b[0m tp, fp, tn, fn \u001b[38;5;241m=\u001b[39m _multiclass_stat_scores_update(\n\u001b[1;32m    336\u001b[0m     preds, target, \u001b[38;5;28mself\u001b[39m\u001b[38;5;241m.\u001b[39mnum_classes, \u001b[38;5;28mself\u001b[39m\u001b[38;5;241m.\u001b[39mtop_k, \u001b[38;5;28mself\u001b[39m\u001b[38;5;241m.\u001b[39maverage, \u001b[38;5;28mself\u001b[39m\u001b[38;5;241m.\u001b[39mmultidim_average, \u001b[38;5;28mself\u001b[39m\u001b[38;5;241m.\u001b[39mignore_index\n\u001b[1;32m    337\u001b[0m )\n",
      "File \u001b[0;32m~/miniconda3/envs/gengar/lib/python3.10/site-packages/torchmetrics/functional/classification/stat_scores.py:319\u001b[0m, in \u001b[0;36m_multiclass_stat_scores_tensor_validation\u001b[0;34m(preds, target, num_classes, multidim_average, ignore_index)\u001b[0m\n\u001b[1;32m    317\u001b[0m unique_values \u001b[38;5;241m=\u001b[39m torch\u001b[38;5;241m.\u001b[39munique(preds)\n\u001b[1;32m    318\u001b[0m \u001b[38;5;28;01mif\u001b[39;00m \u001b[38;5;28mlen\u001b[39m(unique_values) \u001b[38;5;241m>\u001b[39m num_classes:\n\u001b[0;32m--> 319\u001b[0m     \u001b[38;5;28;01mraise\u001b[39;00m \u001b[38;5;167;01mRuntimeError\u001b[39;00m(\n\u001b[1;32m    320\u001b[0m         \u001b[38;5;124m\"\u001b[39m\u001b[38;5;124mDetected more unique values in `preds` than `num_classes`. Expected only\u001b[39m\u001b[38;5;124m\"\u001b[39m\n\u001b[1;32m    321\u001b[0m         \u001b[38;5;124mf\u001b[39m\u001b[38;5;124m\"\u001b[39m\u001b[38;5;124m \u001b[39m\u001b[38;5;132;01m{\u001b[39;00mnum_classes\u001b[38;5;132;01m}\u001b[39;00m\u001b[38;5;124m but found \u001b[39m\u001b[38;5;132;01m{\u001b[39;00m\u001b[38;5;28mlen\u001b[39m(unique_values)\u001b[38;5;132;01m}\u001b[39;00m\u001b[38;5;124m in `preds`.\u001b[39m\u001b[38;5;124m\"\u001b[39m\n\u001b[1;32m    322\u001b[0m     )\n",
      "\u001b[0;31mRuntimeError\u001b[0m: Detected more unique values in `preds` than `num_classes`. Expected only 10 but found 23 in `preds`."
     ]
    }
   ],
   "source": [
    "resnet_trainer.test(model=resnet_module, dataloaders=test_loader)"
   ]
  },
  {
   "cell_type": "code",
   "execution_count": null,
   "metadata": {
    "execution": {
     "iopub.execute_input": "2024-02-11T21:20:35.614912Z",
     "iopub.status.busy": "2024-02-11T21:20:35.614707Z",
     "iopub.status.idle": "2024-02-11T21:20:37.565367Z",
     "shell.execute_reply": "2024-02-11T21:20:37.564800Z",
     "shell.execute_reply.started": "2024-02-11T21:20:35.614890Z"
    }
   },
   "outputs": [
    {
     "name": "stderr",
     "output_type": "stream",
     "text": [
      "LOCAL_RANK: 0 - CUDA_VISIBLE_DEVICES: [0]\n"
     ]
    },
    {
     "data": {
      "application/vnd.jupyter.widget-view+json": {
       "model_id": "451b99ad5fbe4d09aa7c0c8c2dcc2da6",
       "version_major": 2,
       "version_minor": 0
      },
      "text/plain": [
       "Testing: |          | 0/? [00:00<?, ?it/s]"
      ]
     },
     "metadata": {},
     "output_type": "display_data"
    },
    {
     "data": {
      "text/html": [
       "<pre style=\"white-space:pre;overflow-x:auto;line-height:normal;font-family:Menlo,'DejaVu Sans Mono',consolas,'Courier New',monospace\">┏━━━━━━━━━━━━━━━━━━━━━━━━━━━┳━━━━━━━━━━━━━━━━━━━━━━━━━━━┓\n",
       "┃<span style=\"font-weight: bold\">        Test metric        </span>┃<span style=\"font-weight: bold\">       DataLoader 0        </span>┃\n",
       "┡━━━━━━━━━━━━━━━━━━━━━━━━━━━╇━━━━━━━━━━━━━━━━━━━━━━━━━━━┩\n",
       "│<span style=\"color: #008080; text-decoration-color: #008080\">         accuracy          </span>│<span style=\"color: #800080; text-decoration-color: #800080\">    0.6769999861717224     </span>│\n",
       "│<span style=\"color: #008080; text-decoration-color: #008080\">         test_loss         </span>│<span style=\"color: #800080; text-decoration-color: #800080\">    0.9869425892829895     </span>│\n",
       "└───────────────────────────┴───────────────────────────┘\n",
       "</pre>\n"
      ],
      "text/plain": [
       "┏━━━━━━━━━━━━━━━━━━━━━━━━━━━┳━━━━━━━━━━━━━━━━━━━━━━━━━━━┓\n",
       "┃\u001b[1m \u001b[0m\u001b[1m       Test metric       \u001b[0m\u001b[1m \u001b[0m┃\u001b[1m \u001b[0m\u001b[1m      DataLoader 0       \u001b[0m\u001b[1m \u001b[0m┃\n",
       "┡━━━━━━━━━━━━━━━━━━━━━━━━━━━╇━━━━━━━━━━━━━━━━━━━━━━━━━━━┩\n",
       "│\u001b[36m \u001b[0m\u001b[36m        accuracy         \u001b[0m\u001b[36m \u001b[0m│\u001b[35m \u001b[0m\u001b[35m   0.6769999861717224    \u001b[0m\u001b[35m \u001b[0m│\n",
       "│\u001b[36m \u001b[0m\u001b[36m        test_loss        \u001b[0m\u001b[36m \u001b[0m│\u001b[35m \u001b[0m\u001b[35m   0.9869425892829895    \u001b[0m\u001b[35m \u001b[0m│\n",
       "└───────────────────────────┴───────────────────────────┘\n"
      ]
     },
     "metadata": {},
     "output_type": "display_data"
    },
    {
     "data": {
      "text/plain": [
       "[{'accuracy': 0.6769999861717224, 'test_loss': 0.9869425892829895}]"
      ]
     },
     "execution_count": 11,
     "metadata": {},
     "output_type": "execute_result"
    }
   ],
   "source": [
    "byol_resnet_trainer.test(model=byol_resnet, dataloaders=test_loader)"
   ]
  },
  {
   "cell_type": "markdown",
   "metadata": {},
   "source": [
    "As we can see, BYOL was able to improve our base model by only looking at unlabeled images!\n",
    "\n",
    "Let's take a look at some examples to see what both models are doing here."
   ]
  },
  {
   "cell_type": "code",
   "execution_count": null,
   "metadata": {
    "execution": {
     "iopub.execute_input": "2024-02-11T21:20:37.567915Z",
     "iopub.status.busy": "2024-02-11T21:20:37.567770Z",
     "iopub.status.idle": "2024-02-11T21:20:37.572168Z",
     "shell.execute_reply": "2024-02-11T21:20:37.571535Z",
     "shell.execute_reply.started": "2024-02-11T21:20:37.567898Z"
    }
   },
   "outputs": [],
   "source": [
    "num_samples = 10\n",
    "indices = np.random.choice(len(test_dataset), num_samples, replace=False)\n",
    "subset_test_dataset = torch.utils.data.Subset(test_dataset, indices)\n",
    "subset_test_dataloader = torch.utils.data.DataLoader(\n",
    "    subset_test_dataset, \n",
    "    batch_size=2,\n",
    "    num_workers=8,\n",
    "    shuffle=False\n",
    ")"
   ]
  },
  {
   "cell_type": "code",
   "execution_count": null,
   "metadata": {
    "execution": {
     "iopub.execute_input": "2024-02-11T21:24:22.922389Z",
     "iopub.status.busy": "2024-02-11T21:24:22.921779Z",
     "iopub.status.idle": "2024-02-11T21:24:23.840325Z",
     "shell.execute_reply": "2024-02-11T21:24:23.839777Z",
     "shell.execute_reply.started": "2024-02-11T21:24:22.922360Z"
    }
   },
   "outputs": [
    {
     "name": "stderr",
     "output_type": "stream",
     "text": [
      "LOCAL_RANK: 0 - CUDA_VISIBLE_DEVICES: [0]\n"
     ]
    },
    {
     "data": {
      "application/vnd.jupyter.widget-view+json": {
       "model_id": "d598c643062b4af5ae6f2f74594dd850",
       "version_major": 2,
       "version_minor": 0
      },
      "text/plain": [
       "Predicting: |          | 0/? [00:00<?, ?it/s]"
      ]
     },
     "metadata": {},
     "output_type": "display_data"
    },
    {
     "name": "stderr",
     "output_type": "stream",
     "text": [
      "LOCAL_RANK: 0 - CUDA_VISIBLE_DEVICES: [0]\n"
     ]
    },
    {
     "data": {
      "application/vnd.jupyter.widget-view+json": {
       "model_id": "84e1bf5627c8402da5558d5cfec756c1",
       "version_major": 2,
       "version_minor": 0
      },
      "text/plain": [
       "Predicting: |          | 0/? [00:00<?, ?it/s]"
      ]
     },
     "metadata": {},
     "output_type": "display_data"
    }
   ],
   "source": [
    "resnet_predictions = resnet_trainer.predict(model=resnet_module, dataloaders=subset_test_dataloader)\n",
    "byol_resnet_predictions = byol_resnet_trainer.predict(model=byol_resnet, dataloaders=subset_test_dataloader)"
   ]
  },
  {
   "cell_type": "code",
   "execution_count": null,
   "metadata": {
    "execution": {
     "iopub.execute_input": "2024-02-11T21:24:24.772277Z",
     "iopub.status.busy": "2024-02-11T21:24:24.771615Z",
     "iopub.status.idle": "2024-02-11T21:24:25.002040Z",
     "shell.execute_reply": "2024-02-11T21:24:25.001584Z",
     "shell.execute_reply.started": "2024-02-11T21:24:24.772249Z"
    }
   },
   "outputs": [
    {
     "data": {
      "image/png": "[encoded data removed]",
      "text/plain": [
       "<Figure size 200x200 with 1 Axes>"
      ]
     },
     "metadata": {},
     "output_type": "display_data"
    },
    {
     "data": {
      "image/png": "[encoded data removed]",
      "text/plain": [
       "<Figure size 200x200 with 1 Axes>"
      ]
     },
     "metadata": {},
     "output_type": "display_data"
    },
    {
     "data": {
      "image/png": "[encoded data removed]",
      "text/plain": [
       "<Figure size 200x200 with 1 Axes>"
      ]
     },
     "metadata": {},
     "output_type": "display_data"
    },
    {
     "data": {
      "image/png": "[encoded data removed]",
      "text/plain": [
       "<Figure size 200x200 with 1 Axes>"
      ]
     },
     "metadata": {},
     "output_type": "display_data"
    },
    {
     "data": {
      "image/png": "[encoded data removed]",
      "text/plain": [
       "<Figure size 200x200 with 1 Axes>"
      ]
     },
     "metadata": {},
     "output_type": "display_data"
    }
   ],
   "source": [
    "import matplotlib.pyplot as plt\n",
    "\n",
    "resnet_predicted_labels = torch.argmax(torch.cat(resnet_predictions, dim=0), dim=1)\n",
    "byol_resnet_predicted_labels = torch.argmax(torch.cat(byol_resnet_predictions, dim=0), dim=1)\n",
    "\n",
    "# Select a few images to display\n",
    "num_images_to_display = 5\n",
    "for i in range(num_images_to_display):\n",
    "    image, label = subset_test_dataset[i]\n",
    "    resnet_pred_label = resnet_predicted_labels[i]\n",
    "    byol_resnet_pred_label = byol_resnet_predicted_labels[i] \n",
    "\n",
    "    np_image = image.numpy().transpose((1, 2, 0))\n",
    "    np_image = np.clip(np_image * 0.5 + 0.5, 0, 1) \n",
    "\n",
    "    plt.figure(figsize=(2, 2))\n",
    "    plt.imshow(np_image)\n",
    "    plt.title(f'Predicted(resnet): {resnet_pred_label}, Predicted(byol): {byol_resnet_pred_label} Actual: {label}')\n",
    "    plt.axis('off')\n",
    "    plt.show()"
   ]
  },
  {
   "cell_type": "markdown",
   "metadata": {},
   "source": [
    "# Conclusion and takeaways\n",
    "\n",
    "Through a comparative analysis between a conventionally trained ResNet model and a BYOL-boosted ResNet model, we have demonstrated the tangible benefits of leveraging self-supervised pre-training for improving the performance of downstream computer vision tasks.\n",
    "\n",
    "The conventional ResNet model, trained on a subset comprising half of the CIFAR-10 dataset images for three epochs, served as our baseline. In contrast, the BYOL-boosted model underwent an initial self-supervised learning phase on the disjoint half of the CIFAR-10 dataset, followed by fine-tuning on the same subset used for the baseline model. The outcomes were revealing, showcasing a significant enhancement in model performance post-BYOL pre-training, as evidenced by both decreased loss and increased accuracy metrics.\n",
    "\n",
    "This experiment highlights some very enlightning findings:\n",
    "\n",
    "1. The effectiveness of self-supervised pre-training in enriching the base model's ability to discern and generalize from the visual data.\n",
    "2. Modern self-supervised methods are incredibly powerful at leveraging unlabeled data for learning feature representations, posing a significant shift in how models are trained, particularly when the available labeled data is limited or costly to obtain.\n",
    "\n",
    "However, it is important to keep in mind the limitations and pitfalls of methods like these, which were also highlighted in this notebook:\n",
    "\n",
    "1. Self-supervised learning is sometimes poorly understood, and may not behave as expected. Particularly for BYOL, there's a good ammount of variance related to choosing the right transforms and hyperparameters for it to produce significant feature representations and avoid representation collapse.\n",
    "2. Fully supervised methods are still the best when the dataset is equally balanced. This notebook simulates the situation that our models only have access to a subset of images that are labeled. However, if we re-did the experiment and trained the pure ResNet model on the entirety of the dataset, it is sure that it will outperform the BYOL-Boosted model.\n",
    "\n",
    "In conclusion, BYOL underscores the transformative potential of self-supervised learning in the field of computer vision. By enabling more efficient utilization of unlabeled data and significantly enhancing model performance on supervised tasks, BYOL presents a compelling approach for future research and application in machine learning workflows.\n",
    "\n"
   ]
  }
 ],
 "metadata": {
  "kernelspec": {
   "display_name": "Python 3 (ipykernel)",
   "language": "python",
   "name": "python3"
  },
  "language_info": {
   "codemirror_mode": {
    "name": "ipython",
    "version": 3
   },
   "file_extension": ".py",
   "mimetype": "text/x-python",
   "name": "python",
   "nbconvert_exporter": "python",
   "pygments_lexer": "ipython3",
   "version": "3.10.13"
  }
 },
 "nbformat": 4,
 "nbformat_minor": 4
}
